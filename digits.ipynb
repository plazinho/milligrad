{
 "cells": [
  {
   "cell_type": "code",
   "execution_count": 1,
   "id": "997418f4-6c48-4b27-b480-cdd95141f580",
   "metadata": {},
   "outputs": [],
   "source": [
    "import random\n",
    "import numpy as np\n",
    "import matplotlib.pyplot as plt\n",
    "from tqdm import tqdm\n",
    "from sklearn.datasets import load_digits\n",
    "from sklearn.model_selection import train_test_split\n",
    "from sklearn.preprocessing import OneHotEncoder\n",
    "\n",
    "from milligrad import Module, Linear, Sequential, ReLU, SGD, CrossEntropyLoss\n",
    "\n",
    "\n",
    "random_seed = 42\n",
    "random.seed(random_seed)"
   ]
  },
  {
   "cell_type": "code",
   "execution_count": 2,
   "id": "c3309eeb-049d-4b2f-a86d-8aa1f64e42a4",
   "metadata": {},
   "outputs": [
    {
     "data": {
      "text/plain": [
       "((1797, 64), (1797,))"
      ]
     },
     "execution_count": 2,
     "metadata": {},
     "output_type": "execute_result"
    }
   ],
   "source": [
    "images, labels = load_digits(return_X_y=True)\n",
    "images.shape, labels.shape"
   ]
  },
  {
   "cell_type": "code",
   "execution_count": 3,
   "id": "65c1dc7c-e798-4c0a-9506-117060187c2a",
   "metadata": {},
   "outputs": [
    {
     "data": {
      "text/plain": [
       "(np.float64(16.0), np.int64(9))"
      ]
     },
     "execution_count": 3,
     "metadata": {},
     "output_type": "execute_result"
    }
   ],
   "source": [
    "images.max(), labels.max()"
   ]
  },
  {
   "cell_type": "code",
   "execution_count": 4,
   "id": "3ca82110-309a-43dc-9c87-38c99b77f4e1",
   "metadata": {},
   "outputs": [
    {
     "data": {
      "text/plain": [
       "(array([ 0.,  0.,  5., 13.,  9.,  1.,  0.,  0.,  0.,  0., 13., 15., 10.,\n",
       "        15.,  5.,  0.,  0.,  3., 15.,  2.,  0., 11.,  8.,  0.,  0.,  4.,\n",
       "        12.,  0.,  0.,  8.,  8.,  0.,  0.,  5.,  8.,  0.,  0.,  9.,  8.,\n",
       "         0.,  0.,  4., 11.,  0.,  1., 12.,  7.,  0.,  0.,  2., 14.,  5.,\n",
       "        10., 12.,  0.,  0.,  0.,  0.,  6., 13., 10.,  0.,  0.,  0.]),\n",
       " (64,))"
      ]
     },
     "execution_count": 4,
     "metadata": {},
     "output_type": "execute_result"
    }
   ],
   "source": [
    "images[0], images[0].shape"
   ]
  },
  {
   "cell_type": "code",
   "execution_count": 5,
   "id": "386a1af0-3b0f-4b42-b5a5-7f2431785d65",
   "metadata": {},
   "outputs": [
    {
     "data": {
      "text/plain": [
       "(np.int64(0), ())"
      ]
     },
     "execution_count": 5,
     "metadata": {},
     "output_type": "execute_result"
    }
   ],
   "source": [
    "labels[0], labels[0].shape"
   ]
  },
  {
   "cell_type": "code",
   "execution_count": 6,
   "id": "cb8e0a48-5e2e-47b0-8155-861508c10ef0",
   "metadata": {},
   "outputs": [
    {
     "data": {
      "text/plain": [
       "<Figure size 640x480 with 0 Axes>"
      ]
     },
     "metadata": {},
     "output_type": "display_data"
    },
    {
     "data": {
      "image/png": "[encoded data removed]",
      "text/plain": [
       "<Figure size 480x480 with 1 Axes>"
      ]
     },
     "metadata": {},
     "output_type": "display_data"
    }
   ],
   "source": [
    "plt.gray()\n",
    "plt.matshow(images[0].reshape(8,8))\n",
    "plt.show()"
   ]
  },
  {
   "cell_type": "code",
   "execution_count": 7,
   "id": "b2985fcd-46c4-4157-b371-67625d5196f9",
   "metadata": {},
   "outputs": [
    {
     "data": {
      "text/plain": [
       "array([0.    , 0.    , 0.3125, 0.8125, 0.5625, 0.0625, 0.    , 0.    ,\n",
       "       0.    , 0.    , 0.8125, 0.9375, 0.625 , 0.9375, 0.3125, 0.    ,\n",
       "       0.    , 0.1875, 0.9375, 0.125 , 0.    , 0.6875, 0.5   , 0.    ,\n",
       "       0.    , 0.25  , 0.75  , 0.    , 0.    , 0.5   , 0.5   , 0.    ,\n",
       "       0.    , 0.3125, 0.5   , 0.    , 0.    , 0.5625, 0.5   , 0.    ,\n",
       "       0.    , 0.25  , 0.6875, 0.    , 0.0625, 0.75  , 0.4375, 0.    ,\n",
       "       0.    , 0.125 , 0.875 , 0.3125, 0.625 , 0.75  , 0.    , 0.    ,\n",
       "       0.    , 0.    , 0.375 , 0.8125, 0.625 , 0.    , 0.    , 0.    ])"
      ]
     },
     "execution_count": 7,
     "metadata": {},
     "output_type": "execute_result"
    }
   ],
   "source": [
    "images_normalized = images / 16.0\n",
    "images_normalized[0]"
   ]
  },
  {
   "cell_type": "code",
   "execution_count": 8,
   "id": "4ee7e297-d36d-486c-9056-00daab7f415e",
   "metadata": {},
   "outputs": [
    {
     "data": {
      "text/plain": [
       "array([0])"
      ]
     },
     "execution_count": 8,
     "metadata": {},
     "output_type": "execute_result"
    }
   ],
   "source": [
    "labels_reshaped = labels.reshape(-1, 1)\n",
    "labels_reshaped[0]"
   ]
  },
  {
   "cell_type": "code",
   "execution_count": 9,
   "id": "2b91ea97-eea2-4143-8e79-e81868d01846",
   "metadata": {},
   "outputs": [],
   "source": [
    "ohe = OneHotEncoder()\n",
    "y_onehot = ohe.fit_transform(labels_reshaped).toarray()\n",
    "y = y_onehot.tolist()\n",
    "X = images_normalized.tolist()"
   ]
  },
  {
   "cell_type": "code",
   "execution_count": 10,
   "id": "d8741bd0-9082-4c7c-9643-2be2376d656e",
   "metadata": {},
   "outputs": [],
   "source": [
    "X_train, X_test, y_train, y_test = train_test_split(X, y, random_state=random_seed, test_size=0.2)"
   ]
  },
  {
   "cell_type": "code",
   "execution_count": 11,
   "id": "0f12e398-ea05-4bb2-b331-753407ef81b3",
   "metadata": {},
   "outputs": [],
   "source": [
    "def multiclass_accuracy(predictions, y_true):\n",
    "    return np.mean(np.argmax(predictions, axis=1) == np.argmax(y_true, axis=1))"
   ]
  },
  {
   "cell_type": "code",
   "execution_count": 12,
   "id": "02d95db2-d6df-4180-a54c-210e448adb11",
   "metadata": {},
   "outputs": [],
   "source": [
    "class MyNN(Module):\n",
    "    def __init__(self):\n",
    "        super().__init__()\n",
    "        self.sequential = Sequential(\n",
    "            Linear(8*8, 32),\n",
    "            ReLU(),\n",
    "            Linear(32, 10),\n",
    "        )\n",
    "    def forward(self, inputs):\n",
    "        return self.sequential(inputs)"
   ]
  },
  {
   "cell_type": "code",
   "execution_count": 13,
   "id": "e7600c11-8edd-4be2-a7df-abb3b2836edf",
   "metadata": {},
   "outputs": [],
   "source": [
    "model = MyNN()"
   ]
  },
  {
   "cell_type": "code",
   "execution_count": 14,
   "id": "52e53975-ed61-4cc4-95c3-923a4145d998",
   "metadata": {},
   "outputs": [],
   "source": [
    "loss_fn = CrossEntropyLoss()"
   ]
  },
  {
   "cell_type": "code",
   "execution_count": 15,
   "id": "a35b0259-d6f2-4846-a602-d5c84fb1a85e",
   "metadata": {},
   "outputs": [],
   "source": [
    "optimizer = SGD(\n",
    "    model.parameters(),\n",
    "    lr=5e-3,\n",
    "    momentum=0.8\n",
    ")"
   ]
  },
  {
   "cell_type": "code",
   "execution_count": 16,
   "id": "f7e402f1-3877-476f-af52-a118c32fa031",
   "metadata": {},
   "outputs": [],
   "source": [
    "epoches = 14\n",
    "epoch_losses = {'train': [], 'test': []}\n",
    "epoch_metrics = {'train_acc': [], 'test_acc': []}"
   ]
  },
  {
   "cell_type": "code",
   "execution_count": 17,
   "id": "2a5f9a73-ae66-4eed-8755-5b8198f83d54",
   "metadata": {},
   "outputs": [
    {
     "name": "stdout",
     "output_type": "stream",
     "text": [
      "--- Epoch 1 ---\n"
     ]
    },
    {
     "name": "stderr",
     "output_type": "stream",
     "text": [
      "100%|███████████████████████████████████████| 1437/1437 [00:39<00:00, 36.30it/s]\n"
     ]
    },
    {
     "name": "stdout",
     "output_type": "stream",
     "text": [
      "Mean train loss: 1.0644\n",
      "Train accuracy: 0.6987\n"
     ]
    },
    {
     "name": "stderr",
     "output_type": "stream",
     "text": [
      "100%|█████████████████████████████████████████| 360/360 [00:12<00:00, 29.86it/s]\n"
     ]
    },
    {
     "name": "stdout",
     "output_type": "stream",
     "text": [
      "Mean test loss: 0.3303\n",
      "Test accuracy: 0.9139\n",
      "\n",
      "--- Epoch 2 ---\n"
     ]
    },
    {
     "name": "stderr",
     "output_type": "stream",
     "text": [
      "100%|███████████████████████████████████████| 1437/1437 [00:39<00:00, 35.96it/s]\n"
     ]
    },
    {
     "name": "stdout",
     "output_type": "stream",
     "text": [
      "Mean train loss: 0.2541\n",
      "Train accuracy: 0.9276\n"
     ]
    },
    {
     "name": "stderr",
     "output_type": "stream",
     "text": [
      "100%|█████████████████████████████████████████| 360/360 [00:12<00:00, 29.66it/s]\n"
     ]
    },
    {
     "name": "stdout",
     "output_type": "stream",
     "text": [
      "Mean test loss: 0.2067\n",
      "Test accuracy: 0.9333\n",
      "\n",
      "--- Epoch 3 ---\n"
     ]
    },
    {
     "name": "stderr",
     "output_type": "stream",
     "text": [
      "100%|███████████████████████████████████████| 1437/1437 [00:39<00:00, 36.12it/s]\n"
     ]
    },
    {
     "name": "stdout",
     "output_type": "stream",
     "text": [
      "Mean train loss: 0.1652\n",
      "Train accuracy: 0.9506\n"
     ]
    },
    {
     "name": "stderr",
     "output_type": "stream",
     "text": [
      "100%|█████████████████████████████████████████| 360/360 [00:12<00:00, 29.69it/s]\n"
     ]
    },
    {
     "name": "stdout",
     "output_type": "stream",
     "text": [
      "Mean test loss: 0.1703\n",
      "Test accuracy: 0.9444\n",
      "\n",
      "--- Epoch 4 ---\n"
     ]
    },
    {
     "name": "stderr",
     "output_type": "stream",
     "text": [
      "100%|███████████████████████████████████████| 1437/1437 [00:39<00:00, 36.08it/s]\n"
     ]
    },
    {
     "name": "stdout",
     "output_type": "stream",
     "text": [
      "Mean train loss: 0.1267\n",
      "Train accuracy: 0.9638\n"
     ]
    },
    {
     "name": "stderr",
     "output_type": "stream",
     "text": [
      "100%|█████████████████████████████████████████| 360/360 [00:12<00:00, 29.57it/s]\n"
     ]
    },
    {
     "name": "stdout",
     "output_type": "stream",
     "text": [
      "Mean test loss: 0.1507\n",
      "Test accuracy: 0.9528\n",
      "\n",
      "--- Epoch 5 ---\n"
     ]
    },
    {
     "name": "stderr",
     "output_type": "stream",
     "text": [
      "100%|███████████████████████████████████████| 1437/1437 [00:40<00:00, 35.87it/s]\n"
     ]
    },
    {
     "name": "stdout",
     "output_type": "stream",
     "text": [
      "Mean train loss: 0.1037\n",
      "Train accuracy: 0.9736\n"
     ]
    },
    {
     "name": "stderr",
     "output_type": "stream",
     "text": [
      "100%|█████████████████████████████████████████| 360/360 [00:12<00:00, 29.71it/s]\n"
     ]
    },
    {
     "name": "stdout",
     "output_type": "stream",
     "text": [
      "Mean test loss: 0.1435\n",
      "Test accuracy: 0.9528\n",
      "\n",
      "--- Epoch 6 ---\n",
      "Changed learning rate to: 0.0025\n"
     ]
    },
    {
     "name": "stderr",
     "output_type": "stream",
     "text": [
      "100%|███████████████████████████████████████| 1437/1437 [00:39<00:00, 36.20it/s]\n"
     ]
    },
    {
     "name": "stdout",
     "output_type": "stream",
     "text": [
      "Mean train loss: 0.0750\n",
      "Train accuracy: 0.9840\n"
     ]
    },
    {
     "name": "stderr",
     "output_type": "stream",
     "text": [
      "100%|█████████████████████████████████████████| 360/360 [00:11<00:00, 30.14it/s]\n"
     ]
    },
    {
     "name": "stdout",
     "output_type": "stream",
     "text": [
      "Mean test loss: 0.1165\n",
      "Test accuracy: 0.9583\n",
      "\n",
      "--- Epoch 7 ---\n"
     ]
    },
    {
     "name": "stderr",
     "output_type": "stream",
     "text": [
      "100%|███████████████████████████████████████| 1437/1437 [00:39<00:00, 36.55it/s]\n"
     ]
    },
    {
     "name": "stdout",
     "output_type": "stream",
     "text": [
      "Mean train loss: 0.0665\n",
      "Train accuracy: 0.9847\n"
     ]
    },
    {
     "name": "stderr",
     "output_type": "stream",
     "text": [
      "100%|█████████████████████████████████████████| 360/360 [00:11<00:00, 30.02it/s]\n"
     ]
    },
    {
     "name": "stdout",
     "output_type": "stream",
     "text": [
      "Mean test loss: 0.1121\n",
      "Test accuracy: 0.9667\n",
      "\n",
      "--- Epoch 8 ---\n"
     ]
    },
    {
     "name": "stderr",
     "output_type": "stream",
     "text": [
      "100%|███████████████████████████████████████| 1437/1437 [00:39<00:00, 36.48it/s]\n"
     ]
    },
    {
     "name": "stdout",
     "output_type": "stream",
     "text": [
      "Mean train loss: 0.0606\n",
      "Train accuracy: 0.9861\n"
     ]
    },
    {
     "name": "stderr",
     "output_type": "stream",
     "text": [
      "100%|█████████████████████████████████████████| 360/360 [00:12<00:00, 29.87it/s]\n"
     ]
    },
    {
     "name": "stdout",
     "output_type": "stream",
     "text": [
      "Mean test loss: 0.1088\n",
      "Test accuracy: 0.9667\n",
      "\n",
      "--- Epoch 9 ---\n"
     ]
    },
    {
     "name": "stderr",
     "output_type": "stream",
     "text": [
      "100%|███████████████████████████████████████| 1437/1437 [00:39<00:00, 36.47it/s]\n"
     ]
    },
    {
     "name": "stdout",
     "output_type": "stream",
     "text": [
      "Mean train loss: 0.0555\n",
      "Train accuracy: 0.9882\n"
     ]
    },
    {
     "name": "stderr",
     "output_type": "stream",
     "text": [
      "100%|█████████████████████████████████████████| 360/360 [00:12<00:00, 29.98it/s]\n"
     ]
    },
    {
     "name": "stdout",
     "output_type": "stream",
     "text": [
      "Mean test loss: 0.1063\n",
      "Test accuracy: 0.9667\n",
      "\n",
      "--- Epoch 10 ---\n"
     ]
    },
    {
     "name": "stderr",
     "output_type": "stream",
     "text": [
      "100%|███████████████████████████████████████| 1437/1437 [00:39<00:00, 36.55it/s]\n"
     ]
    },
    {
     "name": "stdout",
     "output_type": "stream",
     "text": [
      "Mean train loss: 0.0511\n",
      "Train accuracy: 0.9896\n"
     ]
    },
    {
     "name": "stderr",
     "output_type": "stream",
     "text": [
      "100%|█████████████████████████████████████████| 360/360 [00:11<00:00, 30.06it/s]\n"
     ]
    },
    {
     "name": "stdout",
     "output_type": "stream",
     "text": [
      "Mean test loss: 0.1042\n",
      "Test accuracy: 0.9667\n",
      "\n",
      "--- Epoch 11 ---\n"
     ]
    },
    {
     "name": "stderr",
     "output_type": "stream",
     "text": [
      "100%|███████████████████████████████████████| 1437/1437 [00:39<00:00, 36.43it/s]\n"
     ]
    },
    {
     "name": "stdout",
     "output_type": "stream",
     "text": [
      "Mean train loss: 0.0473\n",
      "Train accuracy: 0.9903\n"
     ]
    },
    {
     "name": "stderr",
     "output_type": "stream",
     "text": [
      "100%|█████████████████████████████████████████| 360/360 [00:11<00:00, 30.14it/s]\n"
     ]
    },
    {
     "name": "stdout",
     "output_type": "stream",
     "text": [
      "Mean test loss: 0.1009\n",
      "Test accuracy: 0.9694\n",
      "\n",
      "--- Epoch 12 ---\n",
      "Changed learning rate to: 0.00125\n"
     ]
    },
    {
     "name": "stderr",
     "output_type": "stream",
     "text": [
      "100%|███████████████████████████████████████| 1437/1437 [00:39<00:00, 36.06it/s]\n"
     ]
    },
    {
     "name": "stdout",
     "output_type": "stream",
     "text": [
      "Mean train loss: 0.0405\n",
      "Train accuracy: 0.9930\n"
     ]
    },
    {
     "name": "stderr",
     "output_type": "stream",
     "text": [
      "100%|█████████████████████████████████████████| 360/360 [00:12<00:00, 29.98it/s]\n"
     ]
    },
    {
     "name": "stdout",
     "output_type": "stream",
     "text": [
      "Mean test loss: 0.0954\n",
      "Test accuracy: 0.9722\n",
      "\n",
      "--- Epoch 13 ---\n"
     ]
    },
    {
     "name": "stderr",
     "output_type": "stream",
     "text": [
      "100%|███████████████████████████████████████| 1437/1437 [00:39<00:00, 36.61it/s]\n"
     ]
    },
    {
     "name": "stdout",
     "output_type": "stream",
     "text": [
      "Mean train loss: 0.0386\n",
      "Train accuracy: 0.9930\n"
     ]
    },
    {
     "name": "stderr",
     "output_type": "stream",
     "text": [
      "100%|█████████████████████████████████████████| 360/360 [00:12<00:00, 29.90it/s]\n"
     ]
    },
    {
     "name": "stdout",
     "output_type": "stream",
     "text": [
      "Mean test loss: 0.0949\n",
      "Test accuracy: 0.9722\n",
      "\n",
      "--- Epoch 14 ---\n"
     ]
    },
    {
     "name": "stderr",
     "output_type": "stream",
     "text": [
      "100%|███████████████████████████████████████| 1437/1437 [00:40<00:00, 35.53it/s]\n"
     ]
    },
    {
     "name": "stdout",
     "output_type": "stream",
     "text": [
      "Mean train loss: 0.0370\n",
      "Train accuracy: 0.9930\n"
     ]
    },
    {
     "name": "stderr",
     "output_type": "stream",
     "text": [
      "100%|█████████████████████████████████████████| 360/360 [00:12<00:00, 29.24it/s]"
     ]
    },
    {
     "name": "stdout",
     "output_type": "stream",
     "text": [
      "Mean test loss: 0.0949\n",
      "Test accuracy: 0.9722\n",
      "\n"
     ]
    },
    {
     "name": "stderr",
     "output_type": "stream",
     "text": [
      "\n"
     ]
    }
   ],
   "source": [
    "for i, epoch in enumerate(range(epoches), 1):\n",
    "    print(f'--- Epoch {i} ---')\n",
    "    if i % 6 == 0:\n",
    "        optimizer.lr = optimizer.lr/2\n",
    "        print(f'Changed learning rate to: {optimizer.lr}')\n",
    "    train_losses = []\n",
    "    test_losses = []\n",
    "    train_preds = []\n",
    "    test_preds = []\n",
    "    for image, target_label in tqdm(list(zip(X_train, y_train))):\n",
    "\n",
    "        pred = model(image)\n",
    "        loss = loss_fn(pred, target_label)\n",
    "        optimizer.zero_grad()\n",
    "        loss.backward()\n",
    "        optimizer.step()\n",
    "        \n",
    "        train_losses.append(loss.data)\n",
    "        train_preds.append([val.data for val in pred])\n",
    "\n",
    "    mean_train_loss = np.mean(train_losses)\n",
    "    train_acc = multiclass_accuracy(train_preds, y_train)\n",
    "    print(f'Mean train loss: {mean_train_loss:.4f}')\n",
    "    print(f'Train accuracy: {train_acc:.4f}')\n",
    "\n",
    "    for image, target_label in tqdm(list(zip(X_test, y_test))):\n",
    "\n",
    "        pred = model(image)\n",
    "        loss = loss_fn(pred, target_label)\n",
    "\n",
    "        test_losses.append(loss.data)\n",
    "        test_preds.append([val.data for val in pred])\n",
    "        \n",
    "    mean_test_loss = np.mean(test_losses)\n",
    "    test_acc = multiclass_accuracy(test_preds, y_test)\n",
    "    print(f'Mean test loss: {mean_test_loss:.4f}')\n",
    "    print(f'Test accuracy: {test_acc:.4f}')\n",
    "    print()\n",
    "\n",
    "    epoch_losses['train'].append(mean_train_loss)\n",
    "    epoch_losses['test'].append(mean_test_loss)\n",
    "    epoch_metrics['train_acc'].append(train_acc)\n",
    "    epoch_metrics['test_acc'].append(test_acc)"
   ]
  },
  {
   "cell_type": "code",
   "execution_count": 36,
   "id": "b3bc7d60-a5e0-49d7-8742-43b20d7d99a7",
   "metadata": {},
   "outputs": [
    {
     "data": {
      "image/png": "[encoded data removed]",
      "text/plain": [
       "<Figure size 1200x500 with 2 Axes>"
      ]
     },
     "metadata": {},
     "output_type": "display_data"
    }
   ],
   "source": [
    "fig, axs = plt.subplots(1, 2, figsize=(12,5))\n",
    "axs[0].plot(epoch_losses['train'], 'r',\n",
    "            epoch_losses['test'], 'b')\n",
    "axs[0].set_title('Loss')\n",
    "axs[1].plot(epoch_metrics['train_acc'], 'r',\n",
    "            epoch_metrics['test_acc'], 'b')\n",
    "axs[1].set_title('Accuracy')\n",
    "\n",
    "for ax in axs.flat:\n",
    "    ax.set(xlabel='Epoch')\n"
   ]
  },
  {
   "cell_type": "code",
   "execution_count": null,
   "id": "da3c738a-a662-4444-8201-42145b634cc1",
   "metadata": {},
   "outputs": [],
   "source": []
  }
 ],
 "metadata": {
  "kernelspec": {
   "display_name": "Python 3 (ipykernel)",
   "language": "python",
   "name": "python3"
  },
  "language_info": {
   "codemirror_mode": {
    "name": "ipython",
    "version": 3
   },
   "file_extension": ".py",
   "mimetype": "text/x-python",
   "name": "python",
   "nbconvert_exporter": "python",
   "pygments_lexer": "ipython3",
   "version": "3.9.21"
  }
 },
 "nbformat": 4,
 "nbformat_minor": 5
}
